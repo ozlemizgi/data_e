{
  "nbformat": 4,
  "nbformat_minor": 0,
  "metadata": {
    "colab": {
      "name": "heartmedical.ipynb",
      "provenance": [],
      "authorship_tag": "ABX9TyMq/F6NBekxw7riv2EPzutO",
      "include_colab_link": true
    },
    "kernelspec": {
      "name": "python3",
      "display_name": "Python 3"
    },
    "language_info": {
      "name": "python"
    }
  },
  "cells": [
    {
      "cell_type": "markdown",
      "metadata": {
        "id": "view-in-github",
        "colab_type": "text"
      },
      "source": [
        "<a href=\"https://colab.research.google.com/github/ozlemizgi/data_e/blob/main/heartmedical.ipynb\" target=\"_parent\"><img src=\"https://colab.research.google.com/assets/colab-badge.svg\" alt=\"Open In Colab\"/></a>"
      ]
    },
    {
      "cell_type": "code",
      "execution_count": null,
      "metadata": {
        "colab": {
          "base_uri": "https://localhost:8080/"
        },
        "id": "dMgXdIwLu_yf",
        "outputId": "a782abb6-a3bb-45f3-bd58-9af5fdbb6347"
      },
      "outputs": [
        {
          "output_type": "stream",
          "name": "stdout",
          "text": [
            "merhaba heart medical\n"
          ]
        }
      ],
      "source": [
        "print(\"merhaba heart medical\")"
      ]
    },
    {
      "cell_type": "code",
      "source": [
        "import pandas as pd"
      ],
      "metadata": {
        "id": "Qh10lVTpwJpc"
      },
      "execution_count": null,
      "outputs": []
    }
  ]
}