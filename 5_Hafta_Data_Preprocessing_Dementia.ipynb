{
  "cells": [
    {
      "cell_type": "markdown",
      "metadata": {
        "id": "view-in-github",
        "colab_type": "text"
      },
      "source": [
        "<a href=\"https://colab.research.google.com/github/ozlemizgi/data_e/blob/main/5_Hafta_Data_Preprocessing_Dementia.ipynb\" target=\"_parent\"><img src=\"https://colab.research.google.com/assets/colab-badge.svg\" alt=\"Open In Colab\"/></a>"
      ]
    },
    {
      "cell_type": "markdown",
      "id": "b25d180e",
      "metadata": {
        "id": "b25d180e"
      },
      "source": [
        "#### DEMENTIA - MENDELEY DATA\n",
        "\n",
        "* Mendeley Data  Link: https://data.mendeley.com/datasets/tsy6rbc5d4/1\n",
        "* Related Paper: https://www.sciencedirect.com/science/article/pii/S2352914819300917"
      ]
    },
    {
      "cell_type": "markdown",
      "id": "e0ca15ae",
      "metadata": {
        "id": "e0ca15ae"
      },
      "source": [
        "#### FEATURE DESCRIPTION\n",
        "\n",
        "* Subject ID **--> S-ID**\n",
        "* MRI ID **--> MRI-ID**\n",
        "* Class **--> CLASS**\n",
        "* Visit **--> VISIT**\n",
        "* MR delay **--> MR DELAY**\n",
        "* Sex **--> SEX**\n",
        "* Hand **--> HAND**\n",
        "* Age **--> AGE**\n",
        "* Education Level **--> EDUCATION**\n",
        "* Social Economic Status **--> SES**\n",
        "* The Mini Mental State Examination **--> MMSE**\n",
        "* Clinical Dementia Ratio **--> CDR**\n",
        "* Estimated Total Intracranial Volume **--> ETIV**\n",
        "* Normalized Whole Brain Volume **--> NWBV**\n",
        "* Atlas Scaling Factor **--> ASF**"
      ]
    },
    {
      "cell_type": "code",
      "execution_count": 2,
      "id": "0323eda3",
      "metadata": {
        "id": "0323eda3"
      },
      "outputs": [],
      "source": [
        "# Kütüphanelerin Çağırılması\n",
        "import numpy as np\n",
        "import pandas as pd\n",
        "\n",
        "from sklearn import preprocessing\n",
        "\n",
        "import seaborn as sns\n",
        "sns.set()\n",
        "\n",
        "import matplotlib.pyplot as plt\n",
        "%matplotlib inline"
      ]
    },
    {
      "cell_type": "markdown",
      "id": "7b8bc8a5",
      "metadata": {
        "id": "7b8bc8a5"
      },
      "source": [
        "#### Kullanacağımız Kütüphaneleri daha önce Python'a yüklemediysek önce bu paketler Komut Satırından yüklenir.\n",
        "\n",
        "* cmd --> pip install pandas\n",
        "\n",
        "* cmd --> pip install numpy\n",
        "\n",
        "* cmd --> pip install matplotlib\n",
        "\n",
        "* cmd --> pip install seaborn\n",
        "\n",
        "* cmd --> pip install scikit-learn"
      ]
    },
    {
      "cell_type": "code",
      "execution_count": 4,
      "id": "69c88d40",
      "metadata": {
        "colab": {
          "base_uri": "https://localhost:8080/",
          "height": 363
        },
        "id": "69c88d40",
        "outputId": "89536dc8-450c-4719-c70b-c27196102412"
      },
      "outputs": [
        {
          "output_type": "error",
          "ename": "FileNotFoundError",
          "evalue": "ignored",
          "traceback": [
            "\u001b[0;31m---------------------------------------------------------------------------\u001b[0m",
            "\u001b[0;31mFileNotFoundError\u001b[0m                         Traceback (most recent call last)",
            "\u001b[0;32m<ipython-input-4-b68bd98fdcfd>\u001b[0m in \u001b[0;36m<module>\u001b[0;34m()\u001b[0m\n\u001b[1;32m      4\u001b[0m \u001b[0;34m\u001b[0m\u001b[0m\n\u001b[1;32m      5\u001b[0m \u001b[0;31m# Veriyi okurken names= features diyerek kendi veridiğimiz isimlere göre okuması için komut verdik.\u001b[0m\u001b[0;34m\u001b[0m\u001b[0;34m\u001b[0m\u001b[0;34m\u001b[0m\u001b[0m\n\u001b[0;32m----> 6\u001b[0;31m \u001b[0mdata\u001b[0m \u001b[0;34m=\u001b[0m \u001b[0mpd\u001b[0m\u001b[0;34m.\u001b[0m\u001b[0mread_excel\u001b[0m\u001b[0;34m(\u001b[0m\u001b[0;34m\"Data/dementia.xlsx\"\u001b[0m\u001b[0;34m,\u001b[0m \u001b[0mnames\u001b[0m\u001b[0;34m=\u001b[0m \u001b[0mfeatures\u001b[0m\u001b[0;34m,\u001b[0m \u001b[0mheader\u001b[0m\u001b[0;34m=\u001b[0m\u001b[0;36m0\u001b[0m\u001b[0;34m)\u001b[0m\u001b[0;34m\u001b[0m\u001b[0;34m\u001b[0m\u001b[0m\n\u001b[0m\u001b[1;32m      7\u001b[0m \u001b[0mdata\u001b[0m\u001b[0;34m.\u001b[0m\u001b[0msample\u001b[0m\u001b[0;34m(\u001b[0m\u001b[0;36m7\u001b[0m\u001b[0;34m)\u001b[0m\u001b[0;34m\u001b[0m\u001b[0;34m\u001b[0m\u001b[0m\n",
            "\u001b[0;32m/usr/local/lib/python3.7/dist-packages/pandas/util/_decorators.py\u001b[0m in \u001b[0;36mwrapper\u001b[0;34m(*args, **kwargs)\u001b[0m\n\u001b[1;32m    309\u001b[0m                     \u001b[0mstacklevel\u001b[0m\u001b[0;34m=\u001b[0m\u001b[0mstacklevel\u001b[0m\u001b[0;34m,\u001b[0m\u001b[0;34m\u001b[0m\u001b[0;34m\u001b[0m\u001b[0m\n\u001b[1;32m    310\u001b[0m                 )\n\u001b[0;32m--> 311\u001b[0;31m             \u001b[0;32mreturn\u001b[0m \u001b[0mfunc\u001b[0m\u001b[0;34m(\u001b[0m\u001b[0;34m*\u001b[0m\u001b[0margs\u001b[0m\u001b[0;34m,\u001b[0m \u001b[0;34m**\u001b[0m\u001b[0mkwargs\u001b[0m\u001b[0;34m)\u001b[0m\u001b[0;34m\u001b[0m\u001b[0;34m\u001b[0m\u001b[0m\n\u001b[0m\u001b[1;32m    312\u001b[0m \u001b[0;34m\u001b[0m\u001b[0m\n\u001b[1;32m    313\u001b[0m         \u001b[0;32mreturn\u001b[0m \u001b[0mwrapper\u001b[0m\u001b[0;34m\u001b[0m\u001b[0;34m\u001b[0m\u001b[0m\n",
            "\u001b[0;32m/usr/local/lib/python3.7/dist-packages/pandas/io/excel/_base.py\u001b[0m in \u001b[0;36mread_excel\u001b[0;34m(io, sheet_name, header, names, index_col, usecols, squeeze, dtype, engine, converters, true_values, false_values, skiprows, nrows, na_values, keep_default_na, na_filter, verbose, parse_dates, date_parser, thousands, comment, skipfooter, convert_float, mangle_dupe_cols, storage_options)\u001b[0m\n\u001b[1;32m    362\u001b[0m     \u001b[0;32mif\u001b[0m \u001b[0;32mnot\u001b[0m \u001b[0misinstance\u001b[0m\u001b[0;34m(\u001b[0m\u001b[0mio\u001b[0m\u001b[0;34m,\u001b[0m \u001b[0mExcelFile\u001b[0m\u001b[0;34m)\u001b[0m\u001b[0;34m:\u001b[0m\u001b[0;34m\u001b[0m\u001b[0;34m\u001b[0m\u001b[0m\n\u001b[1;32m    363\u001b[0m         \u001b[0mshould_close\u001b[0m \u001b[0;34m=\u001b[0m \u001b[0;32mTrue\u001b[0m\u001b[0;34m\u001b[0m\u001b[0;34m\u001b[0m\u001b[0m\n\u001b[0;32m--> 364\u001b[0;31m         \u001b[0mio\u001b[0m \u001b[0;34m=\u001b[0m \u001b[0mExcelFile\u001b[0m\u001b[0;34m(\u001b[0m\u001b[0mio\u001b[0m\u001b[0;34m,\u001b[0m \u001b[0mstorage_options\u001b[0m\u001b[0;34m=\u001b[0m\u001b[0mstorage_options\u001b[0m\u001b[0;34m,\u001b[0m \u001b[0mengine\u001b[0m\u001b[0;34m=\u001b[0m\u001b[0mengine\u001b[0m\u001b[0;34m)\u001b[0m\u001b[0;34m\u001b[0m\u001b[0;34m\u001b[0m\u001b[0m\n\u001b[0m\u001b[1;32m    365\u001b[0m     \u001b[0;32melif\u001b[0m \u001b[0mengine\u001b[0m \u001b[0;32mand\u001b[0m \u001b[0mengine\u001b[0m \u001b[0;34m!=\u001b[0m \u001b[0mio\u001b[0m\u001b[0;34m.\u001b[0m\u001b[0mengine\u001b[0m\u001b[0;34m:\u001b[0m\u001b[0;34m\u001b[0m\u001b[0;34m\u001b[0m\u001b[0m\n\u001b[1;32m    366\u001b[0m         raise ValueError(\n",
            "\u001b[0;32m/usr/local/lib/python3.7/dist-packages/pandas/io/excel/_base.py\u001b[0m in \u001b[0;36m__init__\u001b[0;34m(self, path_or_buffer, engine, storage_options)\u001b[0m\n\u001b[1;32m   1190\u001b[0m             \u001b[0;32melse\u001b[0m\u001b[0;34m:\u001b[0m\u001b[0;34m\u001b[0m\u001b[0;34m\u001b[0m\u001b[0m\n\u001b[1;32m   1191\u001b[0m                 ext = inspect_excel_format(\n\u001b[0;32m-> 1192\u001b[0;31m                     \u001b[0mcontent_or_path\u001b[0m\u001b[0;34m=\u001b[0m\u001b[0mpath_or_buffer\u001b[0m\u001b[0;34m,\u001b[0m \u001b[0mstorage_options\u001b[0m\u001b[0;34m=\u001b[0m\u001b[0mstorage_options\u001b[0m\u001b[0;34m\u001b[0m\u001b[0;34m\u001b[0m\u001b[0m\n\u001b[0m\u001b[1;32m   1193\u001b[0m                 )\n\u001b[1;32m   1194\u001b[0m                 \u001b[0;32mif\u001b[0m \u001b[0mext\u001b[0m \u001b[0;32mis\u001b[0m \u001b[0;32mNone\u001b[0m\u001b[0;34m:\u001b[0m\u001b[0;34m\u001b[0m\u001b[0;34m\u001b[0m\u001b[0m\n",
            "\u001b[0;32m/usr/local/lib/python3.7/dist-packages/pandas/io/excel/_base.py\u001b[0m in \u001b[0;36minspect_excel_format\u001b[0;34m(content_or_path, storage_options)\u001b[0m\n\u001b[1;32m   1069\u001b[0m \u001b[0;34m\u001b[0m\u001b[0m\n\u001b[1;32m   1070\u001b[0m     with get_handle(\n\u001b[0;32m-> 1071\u001b[0;31m         \u001b[0mcontent_or_path\u001b[0m\u001b[0;34m,\u001b[0m \u001b[0;34m\"rb\"\u001b[0m\u001b[0;34m,\u001b[0m \u001b[0mstorage_options\u001b[0m\u001b[0;34m=\u001b[0m\u001b[0mstorage_options\u001b[0m\u001b[0;34m,\u001b[0m \u001b[0mis_text\u001b[0m\u001b[0;34m=\u001b[0m\u001b[0;32mFalse\u001b[0m\u001b[0;34m\u001b[0m\u001b[0;34m\u001b[0m\u001b[0m\n\u001b[0m\u001b[1;32m   1072\u001b[0m     ) as handle:\n\u001b[1;32m   1073\u001b[0m         \u001b[0mstream\u001b[0m \u001b[0;34m=\u001b[0m \u001b[0mhandle\u001b[0m\u001b[0;34m.\u001b[0m\u001b[0mhandle\u001b[0m\u001b[0;34m\u001b[0m\u001b[0;34m\u001b[0m\u001b[0m\n",
            "\u001b[0;32m/usr/local/lib/python3.7/dist-packages/pandas/io/common.py\u001b[0m in \u001b[0;36mget_handle\u001b[0;34m(path_or_buf, mode, encoding, compression, memory_map, is_text, errors, storage_options)\u001b[0m\n\u001b[1;32m    709\u001b[0m         \u001b[0;32melse\u001b[0m\u001b[0;34m:\u001b[0m\u001b[0;34m\u001b[0m\u001b[0;34m\u001b[0m\u001b[0m\n\u001b[1;32m    710\u001b[0m             \u001b[0;31m# Binary mode\u001b[0m\u001b[0;34m\u001b[0m\u001b[0;34m\u001b[0m\u001b[0;34m\u001b[0m\u001b[0m\n\u001b[0;32m--> 711\u001b[0;31m             \u001b[0mhandle\u001b[0m \u001b[0;34m=\u001b[0m \u001b[0mopen\u001b[0m\u001b[0;34m(\u001b[0m\u001b[0mhandle\u001b[0m\u001b[0;34m,\u001b[0m \u001b[0mioargs\u001b[0m\u001b[0;34m.\u001b[0m\u001b[0mmode\u001b[0m\u001b[0;34m)\u001b[0m\u001b[0;34m\u001b[0m\u001b[0;34m\u001b[0m\u001b[0m\n\u001b[0m\u001b[1;32m    712\u001b[0m         \u001b[0mhandles\u001b[0m\u001b[0;34m.\u001b[0m\u001b[0mappend\u001b[0m\u001b[0;34m(\u001b[0m\u001b[0mhandle\u001b[0m\u001b[0;34m)\u001b[0m\u001b[0;34m\u001b[0m\u001b[0;34m\u001b[0m\u001b[0m\n\u001b[1;32m    713\u001b[0m \u001b[0;34m\u001b[0m\u001b[0m\n",
            "\u001b[0;31mFileNotFoundError\u001b[0m: [Errno 2] No such file or directory: 'Data/dementia.xlsx'"
          ]
        }
      ],
      "source": [
        "# Veriyi okumadan önce Sütun isimlerini içerisinde barındıran bir liste oluşturduk, kendi istediğimiz gibi isimlendirdik.\n",
        "features = [\"S-ID\", \"MRI-ID\", \"CLASS\", \"VISIT\", \"MR DELAY\", \"SEX\", \"HAND\",\n",
        "            \"AGE\", \"EDUCATION\",\"SES\",\"MMSE\",\"CDR\", \"ETIV\",\"NWBV\",\"ASF\"]\n",
        "\n",
        "# Veriyi okurken names= features diyerek kendi veridiğimiz isimlere göre okuması için komut verdik.\n",
        "data = pd.read_excel(\"Data/dementia.xlsx\", names= features, header=0)\n",
        "data.sample(7)"
      ]
    },
    {
      "cell_type": "code",
      "execution_count": null,
      "id": "51f3abc3",
      "metadata": {
        "id": "51f3abc3",
        "outputId": "6e8e6f1c-b306-4dab-9c8b-1334abc15957"
      },
      "outputs": [
        {
          "data": {
            "text/html": [
              "<div>\n",
              "<style scoped>\n",
              "    .dataframe tbody tr th:only-of-type {\n",
              "        vertical-align: middle;\n",
              "    }\n",
              "\n",
              "    .dataframe tbody tr th {\n",
              "        vertical-align: top;\n",
              "    }\n",
              "\n",
              "    .dataframe thead th {\n",
              "        text-align: right;\n",
              "    }\n",
              "</style>\n",
              "<table border=\"1\" class=\"dataframe\">\n",
              "  <thead>\n",
              "    <tr style=\"text-align: right;\">\n",
              "      <th></th>\n",
              "      <th>CLASS</th>\n",
              "      <th>VISIT</th>\n",
              "      <th>MR DELAY</th>\n",
              "      <th>SEX</th>\n",
              "      <th>HAND</th>\n",
              "      <th>AGE</th>\n",
              "      <th>EDUCATION</th>\n",
              "      <th>SES</th>\n",
              "      <th>MMSE</th>\n",
              "      <th>CDR</th>\n",
              "      <th>ETIV</th>\n",
              "      <th>NWBV</th>\n",
              "      <th>ASF</th>\n",
              "    </tr>\n",
              "  </thead>\n",
              "  <tbody>\n",
              "    <tr>\n",
              "      <th>114</th>\n",
              "      <td>Converted</td>\n",
              "      <td>1</td>\n",
              "      <td>0</td>\n",
              "      <td>F</td>\n",
              "      <td>R</td>\n",
              "      <td>85</td>\n",
              "      <td>18</td>\n",
              "      <td>1.0</td>\n",
              "      <td>29.0</td>\n",
              "      <td>0.0</td>\n",
              "      <td>1264.400000</td>\n",
              "      <td>0.700956</td>\n",
              "      <td>1.388010</td>\n",
              "    </tr>\n",
              "    <tr>\n",
              "      <th>233</th>\n",
              "      <td>Demented</td>\n",
              "      <td>1</td>\n",
              "      <td>0</td>\n",
              "      <td>F</td>\n",
              "      <td>R</td>\n",
              "      <td>76</td>\n",
              "      <td>12</td>\n",
              "      <td>3.0</td>\n",
              "      <td>27.0</td>\n",
              "      <td>0.5</td>\n",
              "      <td>1315.050000</td>\n",
              "      <td>0.697905</td>\n",
              "      <td>1.334550</td>\n",
              "    </tr>\n",
              "    <tr>\n",
              "      <th>324</th>\n",
              "      <td>Nondemented</td>\n",
              "      <td>1</td>\n",
              "      <td>0</td>\n",
              "      <td>M</td>\n",
              "      <td>R</td>\n",
              "      <td>77</td>\n",
              "      <td>16</td>\n",
              "      <td>1.0</td>\n",
              "      <td>29.0</td>\n",
              "      <td>0.0</td>\n",
              "      <td>1818.390000</td>\n",
              "      <td>0.733941</td>\n",
              "      <td>0.965141</td>\n",
              "    </tr>\n",
              "    <tr>\n",
              "      <th>257</th>\n",
              "      <td>Demented</td>\n",
              "      <td>2</td>\n",
              "      <td>472</td>\n",
              "      <td>M</td>\n",
              "      <td>R</td>\n",
              "      <td>71</td>\n",
              "      <td>16</td>\n",
              "      <td>3.0</td>\n",
              "      <td>27.0</td>\n",
              "      <td>0.5</td>\n",
              "      <td>1479.120383</td>\n",
              "      <td>0.749554</td>\n",
              "      <td>1.186516</td>\n",
              "    </tr>\n",
              "    <tr>\n",
              "      <th>344</th>\n",
              "      <td>Demented</td>\n",
              "      <td>2</td>\n",
              "      <td>700</td>\n",
              "      <td>M</td>\n",
              "      <td>R</td>\n",
              "      <td>72</td>\n",
              "      <td>16</td>\n",
              "      <td>4.0</td>\n",
              "      <td>28.0</td>\n",
              "      <td>0.5</td>\n",
              "      <td>1795.590000</td>\n",
              "      <td>0.732418</td>\n",
              "      <td>0.977396</td>\n",
              "    </tr>\n",
              "    <tr>\n",
              "      <th>284</th>\n",
              "      <td>Demented</td>\n",
              "      <td>2</td>\n",
              "      <td>403</td>\n",
              "      <td>F</td>\n",
              "      <td>R</td>\n",
              "      <td>68</td>\n",
              "      <td>16</td>\n",
              "      <td>1.0</td>\n",
              "      <td>29.0</td>\n",
              "      <td>0.5</td>\n",
              "      <td>1344.327970</td>\n",
              "      <td>0.733195</td>\n",
              "      <td>1.305485</td>\n",
              "    </tr>\n",
              "    <tr>\n",
              "      <th>347</th>\n",
              "      <td>Converted</td>\n",
              "      <td>2</td>\n",
              "      <td>774</td>\n",
              "      <td>M</td>\n",
              "      <td>R</td>\n",
              "      <td>87</td>\n",
              "      <td>16</td>\n",
              "      <td>2.0</td>\n",
              "      <td>30.0</td>\n",
              "      <td>0.0</td>\n",
              "      <td>1397.960000</td>\n",
              "      <td>0.696374</td>\n",
              "      <td>1.255400</td>\n",
              "    </tr>\n",
              "  </tbody>\n",
              "</table>\n",
              "</div>"
            ],
            "text/plain": [
              "           CLASS  VISIT  MR DELAY SEX HAND  AGE  EDUCATION  SES  MMSE  CDR  \\\n",
              "114    Converted      1         0   F    R   85         18  1.0  29.0  0.0   \n",
              "233     Demented      1         0   F    R   76         12  3.0  27.0  0.5   \n",
              "324  Nondemented      1         0   M    R   77         16  1.0  29.0  0.0   \n",
              "257     Demented      2       472   M    R   71         16  3.0  27.0  0.5   \n",
              "344     Demented      2       700   M    R   72         16  4.0  28.0  0.5   \n",
              "284     Demented      2       403   F    R   68         16  1.0  29.0  0.5   \n",
              "347    Converted      2       774   M    R   87         16  2.0  30.0  0.0   \n",
              "\n",
              "            ETIV      NWBV       ASF  \n",
              "114  1264.400000  0.700956  1.388010  \n",
              "233  1315.050000  0.697905  1.334550  \n",
              "324  1818.390000  0.733941  0.965141  \n",
              "257  1479.120383  0.749554  1.186516  \n",
              "344  1795.590000  0.732418  0.977396  \n",
              "284  1344.327970  0.733195  1.305485  \n",
              "347  1397.960000  0.696374  1.255400  "
            ]
          },
          "execution_count": 4,
          "metadata": {},
          "output_type": "execute_result"
        }
      ],
      "source": [
        "# Verisetindeki Dementia hastalığı ile ilgili olmayan ID sütunlarını veri setinden kaldıralım.\n",
        "# Bunun için .drop() komutunu kullanırız.\n",
        "data = data.drop(['S-ID', 'MRI-ID'], axis=1)\n",
        "data.sample(7)"
      ]
    },
    {
      "cell_type": "code",
      "execution_count": null,
      "id": "bee6239a",
      "metadata": {
        "id": "bee6239a",
        "outputId": "f8a9663a-a874-4e13-bcee-b8a2150cc22f"
      },
      "outputs": [
        {
          "name": "stdout",
          "output_type": "stream",
          "text": [
            "Satır: 373 \t Sütun: 13\n",
            "--------------------------------------------------------------------------------\n",
            "Index(['CLASS', 'VISIT', 'MR DELAY', 'SEX', 'HAND', 'AGE', 'EDUCATION', 'SES',\n",
            "       'MMSE', 'CDR', 'ETIV', 'NWBV', 'ASF'],\n",
            "      dtype='object')\n"
          ]
        }
      ],
      "source": [
        "# Veri setinin boyutları\n",
        "print(\"Satır:\", data.shape[0], '\\t', \"Sütun:\", data.shape[1])\n",
        "\n",
        "# bir Satır boşluk bırak\n",
        "print(\"-\"*80)\n",
        "\n",
        "# Veri setinin sütun isimleri\n",
        "print(data.columns)"
      ]
    },
    {
      "cell_type": "code",
      "execution_count": null,
      "id": "867ed312",
      "metadata": {
        "id": "867ed312",
        "outputId": "121dd347-255d-436a-a5be-3651a326734c"
      },
      "outputs": [
        {
          "name": "stdout",
          "output_type": "stream",
          "text": [
            "<class 'pandas.core.frame.DataFrame'>\n",
            "RangeIndex: 373 entries, 0 to 372\n",
            "Data columns (total 13 columns):\n",
            " #   Column     Non-Null Count  Dtype  \n",
            "---  ------     --------------  -----  \n",
            " 0   CLASS      373 non-null    object \n",
            " 1   VISIT      373 non-null    int64  \n",
            " 2   MR DELAY   373 non-null    int64  \n",
            " 3   SEX        373 non-null    object \n",
            " 4   HAND       373 non-null    object \n",
            " 5   AGE        373 non-null    int64  \n",
            " 6   EDUCATION  373 non-null    int64  \n",
            " 7   SES        354 non-null    float64\n",
            " 8   MMSE       371 non-null    float64\n",
            " 9   CDR        373 non-null    float64\n",
            " 10  ETIV       373 non-null    float64\n",
            " 11  NWBV       373 non-null    float64\n",
            " 12  ASF        373 non-null    float64\n",
            "dtypes: float64(6), int64(4), object(3)\n",
            "memory usage: 38.0+ KB\n"
          ]
        }
      ],
      "source": [
        "# Veriseti hakkında genel bilgi \n",
        "data.info()"
      ]
    },
    {
      "cell_type": "code",
      "execution_count": null,
      "id": "12779456",
      "metadata": {
        "id": "12779456",
        "outputId": "39e71092-8dc2-4ebc-8cca-9a37d8a1fb4f"
      },
      "outputs": [
        {
          "data": {
            "text/html": [
              "<div>\n",
              "<style scoped>\n",
              "    .dataframe tbody tr th:only-of-type {\n",
              "        vertical-align: middle;\n",
              "    }\n",
              "\n",
              "    .dataframe tbody tr th {\n",
              "        vertical-align: top;\n",
              "    }\n",
              "\n",
              "    .dataframe thead th {\n",
              "        text-align: right;\n",
              "    }\n",
              "</style>\n",
              "<table border=\"1\" class=\"dataframe\">\n",
              "  <thead>\n",
              "    <tr style=\"text-align: right;\">\n",
              "      <th></th>\n",
              "      <th>CLASS</th>\n",
              "      <th>VISIT</th>\n",
              "      <th>MR DELAY</th>\n",
              "      <th>SEX</th>\n",
              "      <th>HAND</th>\n",
              "      <th>AGE</th>\n",
              "      <th>EDUCATION</th>\n",
              "      <th>SES</th>\n",
              "      <th>MMSE</th>\n",
              "      <th>CDR</th>\n",
              "      <th>ETIV</th>\n",
              "      <th>NWBV</th>\n",
              "      <th>ASF</th>\n",
              "    </tr>\n",
              "  </thead>\n",
              "  <tbody>\n",
              "    <tr>\n",
              "      <th>107</th>\n",
              "      <td>Nondemented</td>\n",
              "      <td>1</td>\n",
              "      <td>0</td>\n",
              "      <td>F</td>\n",
              "      <td>R</td>\n",
              "      <td>92</td>\n",
              "      <td>23</td>\n",
              "      <td>1.0</td>\n",
              "      <td>29.0</td>\n",
              "      <td>0.0</td>\n",
              "      <td>1454.28</td>\n",
              "      <td>0.701155</td>\n",
              "      <td>1.206780</td>\n",
              "    </tr>\n",
              "    <tr>\n",
              "      <th>95</th>\n",
              "      <td>Nondemented</td>\n",
              "      <td>1</td>\n",
              "      <td>0</td>\n",
              "      <td>F</td>\n",
              "      <td>R</td>\n",
              "      <td>77</td>\n",
              "      <td>16</td>\n",
              "      <td>2.0</td>\n",
              "      <td>29.0</td>\n",
              "      <td>0.0</td>\n",
              "      <td>1432.67</td>\n",
              "      <td>0.722554</td>\n",
              "      <td>1.224980</td>\n",
              "    </tr>\n",
              "    <tr>\n",
              "      <th>199</th>\n",
              "      <td>Nondemented</td>\n",
              "      <td>2</td>\n",
              "      <td>673</td>\n",
              "      <td>M</td>\n",
              "      <td>R</td>\n",
              "      <td>72</td>\n",
              "      <td>18</td>\n",
              "      <td>1.0</td>\n",
              "      <td>29.0</td>\n",
              "      <td>0.0</td>\n",
              "      <td>1785.35</td>\n",
              "      <td>0.686604</td>\n",
              "      <td>0.983003</td>\n",
              "    </tr>\n",
              "    <tr>\n",
              "      <th>247</th>\n",
              "      <td>Nondemented</td>\n",
              "      <td>1</td>\n",
              "      <td>0</td>\n",
              "      <td>F</td>\n",
              "      <td>R</td>\n",
              "      <td>81</td>\n",
              "      <td>15</td>\n",
              "      <td>2.0</td>\n",
              "      <td>28.0</td>\n",
              "      <td>0.0</td>\n",
              "      <td>1486.07</td>\n",
              "      <td>0.753917</td>\n",
              "      <td>1.180960</td>\n",
              "    </tr>\n",
              "    <tr>\n",
              "      <th>349</th>\n",
              "      <td>Nondemented</td>\n",
              "      <td>1</td>\n",
              "      <td>0</td>\n",
              "      <td>M</td>\n",
              "      <td>R</td>\n",
              "      <td>68</td>\n",
              "      <td>14</td>\n",
              "      <td>3.0</td>\n",
              "      <td>26.0</td>\n",
              "      <td>0.0</td>\n",
              "      <td>1443.71</td>\n",
              "      <td>0.778042</td>\n",
              "      <td>1.215610</td>\n",
              "    </tr>\n",
              "    <tr>\n",
              "      <th>303</th>\n",
              "      <td>Nondemented</td>\n",
              "      <td>3</td>\n",
              "      <td>1204</td>\n",
              "      <td>F</td>\n",
              "      <td>R</td>\n",
              "      <td>80</td>\n",
              "      <td>13</td>\n",
              "      <td>2.0</td>\n",
              "      <td>28.0</td>\n",
              "      <td>0.0</td>\n",
              "      <td>1336.60</td>\n",
              "      <td>0.761973</td>\n",
              "      <td>1.313040</td>\n",
              "    </tr>\n",
              "  </tbody>\n",
              "</table>\n",
              "</div>"
            ],
            "text/plain": [
              "           CLASS  VISIT  MR DELAY SEX HAND  AGE  EDUCATION  SES  MMSE  CDR  \\\n",
              "107  Nondemented      1         0   F    R   92         23  1.0  29.0  0.0   \n",
              "95   Nondemented      1         0   F    R   77         16  2.0  29.0  0.0   \n",
              "199  Nondemented      2       673   M    R   72         18  1.0  29.0  0.0   \n",
              "247  Nondemented      1         0   F    R   81         15  2.0  28.0  0.0   \n",
              "349  Nondemented      1         0   M    R   68         14  3.0  26.0  0.0   \n",
              "303  Nondemented      3      1204   F    R   80         13  2.0  28.0  0.0   \n",
              "\n",
              "        ETIV      NWBV       ASF  \n",
              "107  1454.28  0.701155  1.206780  \n",
              "95   1432.67  0.722554  1.224980  \n",
              "199  1785.35  0.686604  0.983003  \n",
              "247  1486.07  0.753917  1.180960  \n",
              "349  1443.71  0.778042  1.215610  \n",
              "303  1336.60  0.761973  1.313040  "
            ]
          },
          "execution_count": 9,
          "metadata": {},
          "output_type": "execute_result"
        }
      ],
      "source": [
        "data.sample(6)"
      ]
    },
    {
      "cell_type": "code",
      "execution_count": null,
      "id": "b1a520b8",
      "metadata": {
        "id": "b1a520b8",
        "outputId": "58db472d-97aa-4564-d2db-cc59dd9e1cf0"
      },
      "outputs": [
        {
          "data": {
            "text/plain": [
              "Nondemented    190\n",
              "Demented       146\n",
              "Converted       37\n",
              "Name: CLASS, dtype: int64"
            ]
          },
          "execution_count": 11,
          "metadata": {},
          "output_type": "execute_result"
        }
      ],
      "source": [
        "data[\"CLASS\"].value_counts()"
      ]
    },
    {
      "cell_type": "markdown",
      "id": "c5eeb113",
      "metadata": {
        "id": "c5eeb113"
      },
      "source": [
        "##### Object değerleri numeric değerlere çevirelim:\n",
        "\n",
        "**CLASS**\n",
        "\n",
        "* Nondemented  --> 0\n",
        "* Demented  --> 1\n",
        "* Converted --> 2\n",
        "\n",
        "\n",
        "**SEX**\n",
        "\n",
        "* M  --> 0\n",
        "* F  --> 1\n",
        "\n",
        "\n",
        "**HAND**\n",
        "\n",
        "* R  --> 0\n",
        "* L  --> 1"
      ]
    },
    {
      "cell_type": "code",
      "execution_count": null,
      "id": "b72816db",
      "metadata": {
        "id": "b72816db",
        "outputId": "09fcccfd-9745-4d74-c271-b1c742649e25"
      },
      "outputs": [
        {
          "data": {
            "text/html": [
              "<div>\n",
              "<style scoped>\n",
              "    .dataframe tbody tr th:only-of-type {\n",
              "        vertical-align: middle;\n",
              "    }\n",
              "\n",
              "    .dataframe tbody tr th {\n",
              "        vertical-align: top;\n",
              "    }\n",
              "\n",
              "    .dataframe thead th {\n",
              "        text-align: right;\n",
              "    }\n",
              "</style>\n",
              "<table border=\"1\" class=\"dataframe\">\n",
              "  <thead>\n",
              "    <tr style=\"text-align: right;\">\n",
              "      <th></th>\n",
              "      <th>CLASS</th>\n",
              "      <th>VISIT</th>\n",
              "      <th>MR DELAY</th>\n",
              "      <th>SEX</th>\n",
              "      <th>HAND</th>\n",
              "      <th>AGE</th>\n",
              "      <th>EDUCATION</th>\n",
              "      <th>SES</th>\n",
              "      <th>MMSE</th>\n",
              "      <th>CDR</th>\n",
              "      <th>ETIV</th>\n",
              "      <th>NWBV</th>\n",
              "      <th>ASF</th>\n",
              "    </tr>\n",
              "  </thead>\n",
              "  <tbody>\n",
              "    <tr>\n",
              "      <th>139</th>\n",
              "      <td>1</td>\n",
              "      <td>1</td>\n",
              "      <td>0</td>\n",
              "      <td>0</td>\n",
              "      <td>0</td>\n",
              "      <td>61</td>\n",
              "      <td>18</td>\n",
              "      <td>1.0</td>\n",
              "      <td>30.0</td>\n",
              "      <td>1.0</td>\n",
              "      <td>1956.960255</td>\n",
              "      <td>0.734008</td>\n",
              "      <td>0.896799</td>\n",
              "    </tr>\n",
              "    <tr>\n",
              "      <th>337</th>\n",
              "      <td>0</td>\n",
              "      <td>3</td>\n",
              "      <td>1695</td>\n",
              "      <td>0</td>\n",
              "      <td>0</td>\n",
              "      <td>81</td>\n",
              "      <td>16</td>\n",
              "      <td>3.0</td>\n",
              "      <td>30.0</td>\n",
              "      <td>0.0</td>\n",
              "      <td>1836.152429</td>\n",
              "      <td>0.743938</td>\n",
              "      <td>0.955803</td>\n",
              "    </tr>\n",
              "    <tr>\n",
              "      <th>136</th>\n",
              "      <td>1</td>\n",
              "      <td>1</td>\n",
              "      <td>0</td>\n",
              "      <td>1</td>\n",
              "      <td>0</td>\n",
              "      <td>78</td>\n",
              "      <td>8</td>\n",
              "      <td>5.0</td>\n",
              "      <td>23.0</td>\n",
              "      <td>1.0</td>\n",
              "      <td>1462.400000</td>\n",
              "      <td>0.690761</td>\n",
              "      <td>1.200090</td>\n",
              "    </tr>\n",
              "    <tr>\n",
              "      <th>160</th>\n",
              "      <td>0</td>\n",
              "      <td>5</td>\n",
              "      <td>2517</td>\n",
              "      <td>1</td>\n",
              "      <td>0</td>\n",
              "      <td>77</td>\n",
              "      <td>14</td>\n",
              "      <td>3.0</td>\n",
              "      <td>29.0</td>\n",
              "      <td>0.0</td>\n",
              "      <td>1504.392311</td>\n",
              "      <td>0.769165</td>\n",
              "      <td>1.166584</td>\n",
              "    </tr>\n",
              "    <tr>\n",
              "      <th>118</th>\n",
              "      <td>0</td>\n",
              "      <td>1</td>\n",
              "      <td>0</td>\n",
              "      <td>1</td>\n",
              "      <td>0</td>\n",
              "      <td>71</td>\n",
              "      <td>14</td>\n",
              "      <td>2.0</td>\n",
              "      <td>28.0</td>\n",
              "      <td>0.0</td>\n",
              "      <td>1460.660000</td>\n",
              "      <td>0.755669</td>\n",
              "      <td>1.201510</td>\n",
              "    </tr>\n",
              "    <tr>\n",
              "      <th>78</th>\n",
              "      <td>1</td>\n",
              "      <td>1</td>\n",
              "      <td>0</td>\n",
              "      <td>0</td>\n",
              "      <td>0</td>\n",
              "      <td>84</td>\n",
              "      <td>6</td>\n",
              "      <td>4.0</td>\n",
              "      <td>25.0</td>\n",
              "      <td>0.5</td>\n",
              "      <td>1310.330000</td>\n",
              "      <td>0.727252</td>\n",
              "      <td>1.339360</td>\n",
              "    </tr>\n",
              "    <tr>\n",
              "      <th>180</th>\n",
              "      <td>0</td>\n",
              "      <td>2</td>\n",
              "      <td>670</td>\n",
              "      <td>1</td>\n",
              "      <td>0</td>\n",
              "      <td>80</td>\n",
              "      <td>8</td>\n",
              "      <td>5.0</td>\n",
              "      <td>27.0</td>\n",
              "      <td>0.0</td>\n",
              "      <td>1381.420000</td>\n",
              "      <td>0.750913</td>\n",
              "      <td>1.270430</td>\n",
              "    </tr>\n",
              "  </tbody>\n",
              "</table>\n",
              "</div>"
            ],
            "text/plain": [
              "     CLASS  VISIT  MR DELAY  SEX  HAND  AGE  EDUCATION  SES  MMSE  CDR  \\\n",
              "139      1      1         0    0     0   61         18  1.0  30.0  1.0   \n",
              "337      0      3      1695    0     0   81         16  3.0  30.0  0.0   \n",
              "136      1      1         0    1     0   78          8  5.0  23.0  1.0   \n",
              "160      0      5      2517    1     0   77         14  3.0  29.0  0.0   \n",
              "118      0      1         0    1     0   71         14  2.0  28.0  0.0   \n",
              "78       1      1         0    0     0   84          6  4.0  25.0  0.5   \n",
              "180      0      2       670    1     0   80          8  5.0  27.0  0.0   \n",
              "\n",
              "            ETIV      NWBV       ASF  \n",
              "139  1956.960255  0.734008  0.896799  \n",
              "337  1836.152429  0.743938  0.955803  \n",
              "136  1462.400000  0.690761  1.200090  \n",
              "160  1504.392311  0.769165  1.166584  \n",
              "118  1460.660000  0.755669  1.201510  \n",
              "78   1310.330000  0.727252  1.339360  \n",
              "180  1381.420000  0.750913  1.270430  "
            ]
          },
          "execution_count": 12,
          "metadata": {},
          "output_type": "execute_result"
        }
      ],
      "source": [
        "# replace() : verileri değiştirmek için kullanırız.\n",
        "data = data.replace({'CLASS': {\"Nondemented\": 0, \"Demented\": 1, \"Converted\":2}})\n",
        "data = data.replace({'SEX': {\"M\": 0, \"F\": 1}})\n",
        "data = data.replace({'HAND': {\"R\": 0, \"L\": 1}})\n",
        "data.sample(7)"
      ]
    },
    {
      "cell_type": "code",
      "execution_count": null,
      "id": "dbd34dde",
      "metadata": {
        "id": "dbd34dde",
        "outputId": "2c6b9b44-9faf-4334-ec82-7851694d308a"
      },
      "outputs": [
        {
          "name": "stdout",
          "output_type": "stream",
          "text": [
            "<class 'pandas.core.frame.DataFrame'>\n",
            "RangeIndex: 373 entries, 0 to 372\n",
            "Data columns (total 13 columns):\n",
            " #   Column     Non-Null Count  Dtype  \n",
            "---  ------     --------------  -----  \n",
            " 0   CLASS      373 non-null    int64  \n",
            " 1   VISIT      373 non-null    int64  \n",
            " 2   MR DELAY   373 non-null    int64  \n",
            " 3   SEX        373 non-null    int64  \n",
            " 4   HAND       373 non-null    int64  \n",
            " 5   AGE        373 non-null    int64  \n",
            " 6   EDUCATION  373 non-null    int64  \n",
            " 7   SES        354 non-null    float64\n",
            " 8   MMSE       371 non-null    float64\n",
            " 9   CDR        373 non-null    float64\n",
            " 10  ETIV       373 non-null    float64\n",
            " 11  NWBV       373 non-null    float64\n",
            " 12  ASF        373 non-null    float64\n",
            "dtypes: float64(6), int64(7)\n",
            "memory usage: 38.0 KB\n"
          ]
        }
      ],
      "source": [
        "data.info()"
      ]
    },
    {
      "cell_type": "code",
      "execution_count": null,
      "id": "6c11c525",
      "metadata": {
        "id": "6c11c525",
        "outputId": "348930e8-cc86-412c-b1e4-77c9bb365828"
      },
      "outputs": [
        {
          "data": {
            "text/html": [
              "<div>\n",
              "<style scoped>\n",
              "    .dataframe tbody tr th:only-of-type {\n",
              "        vertical-align: middle;\n",
              "    }\n",
              "\n",
              "    .dataframe tbody tr th {\n",
              "        vertical-align: top;\n",
              "    }\n",
              "\n",
              "    .dataframe thead th {\n",
              "        text-align: right;\n",
              "    }\n",
              "</style>\n",
              "<table border=\"1\" class=\"dataframe\">\n",
              "  <thead>\n",
              "    <tr style=\"text-align: right;\">\n",
              "      <th></th>\n",
              "      <th>count</th>\n",
              "      <th>mean</th>\n",
              "      <th>std</th>\n",
              "      <th>min</th>\n",
              "      <th>25%</th>\n",
              "      <th>50%</th>\n",
              "      <th>75%</th>\n",
              "      <th>max</th>\n",
              "    </tr>\n",
              "  </thead>\n",
              "  <tbody>\n",
              "    <tr>\n",
              "      <th>CLASS</th>\n",
              "      <td>373.0</td>\n",
              "      <td>0.589812</td>\n",
              "      <td>0.664461</td>\n",
              "      <td>0.000000</td>\n",
              "      <td>0.000000</td>\n",
              "      <td>0.000000</td>\n",
              "      <td>1.000000</td>\n",
              "      <td>2.000000</td>\n",
              "    </tr>\n",
              "    <tr>\n",
              "      <th>VISIT</th>\n",
              "      <td>373.0</td>\n",
              "      <td>1.882038</td>\n",
              "      <td>0.922843</td>\n",
              "      <td>1.000000</td>\n",
              "      <td>1.000000</td>\n",
              "      <td>2.000000</td>\n",
              "      <td>2.000000</td>\n",
              "      <td>5.000000</td>\n",
              "    </tr>\n",
              "    <tr>\n",
              "      <th>MR DELAY</th>\n",
              "      <td>373.0</td>\n",
              "      <td>595.104558</td>\n",
              "      <td>635.485118</td>\n",
              "      <td>0.000000</td>\n",
              "      <td>0.000000</td>\n",
              "      <td>552.000000</td>\n",
              "      <td>873.000000</td>\n",
              "      <td>2639.000000</td>\n",
              "    </tr>\n",
              "    <tr>\n",
              "      <th>SEX</th>\n",
              "      <td>373.0</td>\n",
              "      <td>0.571046</td>\n",
              "      <td>0.495592</td>\n",
              "      <td>0.000000</td>\n",
              "      <td>0.000000</td>\n",
              "      <td>1.000000</td>\n",
              "      <td>1.000000</td>\n",
              "      <td>1.000000</td>\n",
              "    </tr>\n",
              "    <tr>\n",
              "      <th>HAND</th>\n",
              "      <td>373.0</td>\n",
              "      <td>0.000000</td>\n",
              "      <td>0.000000</td>\n",
              "      <td>0.000000</td>\n",
              "      <td>0.000000</td>\n",
              "      <td>0.000000</td>\n",
              "      <td>0.000000</td>\n",
              "      <td>0.000000</td>\n",
              "    </tr>\n",
              "    <tr>\n",
              "      <th>AGE</th>\n",
              "      <td>373.0</td>\n",
              "      <td>77.013405</td>\n",
              "      <td>7.640957</td>\n",
              "      <td>60.000000</td>\n",
              "      <td>71.000000</td>\n",
              "      <td>77.000000</td>\n",
              "      <td>82.000000</td>\n",
              "      <td>98.000000</td>\n",
              "    </tr>\n",
              "    <tr>\n",
              "      <th>EDUCATION</th>\n",
              "      <td>373.0</td>\n",
              "      <td>14.597855</td>\n",
              "      <td>2.876339</td>\n",
              "      <td>6.000000</td>\n",
              "      <td>12.000000</td>\n",
              "      <td>15.000000</td>\n",
              "      <td>16.000000</td>\n",
              "      <td>23.000000</td>\n",
              "    </tr>\n",
              "    <tr>\n",
              "      <th>SES</th>\n",
              "      <td>354.0</td>\n",
              "      <td>2.460452</td>\n",
              "      <td>1.134005</td>\n",
              "      <td>1.000000</td>\n",
              "      <td>2.000000</td>\n",
              "      <td>2.000000</td>\n",
              "      <td>3.000000</td>\n",
              "      <td>5.000000</td>\n",
              "    </tr>\n",
              "    <tr>\n",
              "      <th>MMSE</th>\n",
              "      <td>371.0</td>\n",
              "      <td>27.342318</td>\n",
              "      <td>3.683244</td>\n",
              "      <td>4.000000</td>\n",
              "      <td>27.000000</td>\n",
              "      <td>29.000000</td>\n",
              "      <td>30.000000</td>\n",
              "      <td>30.000000</td>\n",
              "    </tr>\n",
              "    <tr>\n",
              "      <th>CDR</th>\n",
              "      <td>373.0</td>\n",
              "      <td>0.290885</td>\n",
              "      <td>0.374557</td>\n",
              "      <td>0.000000</td>\n",
              "      <td>0.000000</td>\n",
              "      <td>0.000000</td>\n",
              "      <td>0.500000</td>\n",
              "      <td>2.000000</td>\n",
              "    </tr>\n",
              "    <tr>\n",
              "      <th>ETIV</th>\n",
              "      <td>373.0</td>\n",
              "      <td>1488.121584</td>\n",
              "      <td>176.135956</td>\n",
              "      <td>1105.652499</td>\n",
              "      <td>1357.330000</td>\n",
              "      <td>1470.041312</td>\n",
              "      <td>1596.936793</td>\n",
              "      <td>2004.479526</td>\n",
              "    </tr>\n",
              "    <tr>\n",
              "      <th>NWBV</th>\n",
              "      <td>373.0</td>\n",
              "      <td>0.729556</td>\n",
              "      <td>0.037141</td>\n",
              "      <td>0.644399</td>\n",
              "      <td>0.700191</td>\n",
              "      <td>0.728789</td>\n",
              "      <td>0.755669</td>\n",
              "      <td>0.836842</td>\n",
              "    </tr>\n",
              "    <tr>\n",
              "      <th>ASF</th>\n",
              "      <td>373.0</td>\n",
              "      <td>1.195460</td>\n",
              "      <td>0.138105</td>\n",
              "      <td>0.875539</td>\n",
              "      <td>1.098979</td>\n",
              "      <td>1.193844</td>\n",
              "      <td>1.292980</td>\n",
              "      <td>1.587298</td>\n",
              "    </tr>\n",
              "  </tbody>\n",
              "</table>\n",
              "</div>"
            ],
            "text/plain": [
              "           count         mean         std          min          25%  \\\n",
              "CLASS      373.0     0.589812    0.664461     0.000000     0.000000   \n",
              "VISIT      373.0     1.882038    0.922843     1.000000     1.000000   \n",
              "MR DELAY   373.0   595.104558  635.485118     0.000000     0.000000   \n",
              "SEX        373.0     0.571046    0.495592     0.000000     0.000000   \n",
              "HAND       373.0     0.000000    0.000000     0.000000     0.000000   \n",
              "AGE        373.0    77.013405    7.640957    60.000000    71.000000   \n",
              "EDUCATION  373.0    14.597855    2.876339     6.000000    12.000000   \n",
              "SES        354.0     2.460452    1.134005     1.000000     2.000000   \n",
              "MMSE       371.0    27.342318    3.683244     4.000000    27.000000   \n",
              "CDR        373.0     0.290885    0.374557     0.000000     0.000000   \n",
              "ETIV       373.0  1488.121584  176.135956  1105.652499  1357.330000   \n",
              "NWBV       373.0     0.729556    0.037141     0.644399     0.700191   \n",
              "ASF        373.0     1.195460    0.138105     0.875539     1.098979   \n",
              "\n",
              "                   50%          75%          max  \n",
              "CLASS         0.000000     1.000000     2.000000  \n",
              "VISIT         2.000000     2.000000     5.000000  \n",
              "MR DELAY    552.000000   873.000000  2639.000000  \n",
              "SEX           1.000000     1.000000     1.000000  \n",
              "HAND          0.000000     0.000000     0.000000  \n",
              "AGE          77.000000    82.000000    98.000000  \n",
              "EDUCATION    15.000000    16.000000    23.000000  \n",
              "SES           2.000000     3.000000     5.000000  \n",
              "MMSE         29.000000    30.000000    30.000000  \n",
              "CDR           0.000000     0.500000     2.000000  \n",
              "ETIV       1470.041312  1596.936793  2004.479526  \n",
              "NWBV          0.728789     0.755669     0.836842  \n",
              "ASF           1.193844     1.292980     1.587298  "
            ]
          },
          "execution_count": 14,
          "metadata": {},
          "output_type": "execute_result"
        }
      ],
      "source": [
        "# Veriyi istatistiksel açıdan inceleyelim.\n",
        "data.describe().T"
      ]
    },
    {
      "cell_type": "markdown",
      "id": "f008e013",
      "metadata": {
        "id": "f008e013"
      },
      "source": [
        "## DATA PRE-PROCESSING"
      ]
    },
    {
      "cell_type": "markdown",
      "id": "cb38f21d",
      "metadata": {
        "id": "cb38f21d"
      },
      "source": [
        "### 1) MISSIND DATA"
      ]
    },
    {
      "cell_type": "code",
      "execution_count": null,
      "id": "14a69d64",
      "metadata": {
        "id": "14a69d64",
        "outputId": "58637321-80ee-4a7d-a79b-6f5794f4ae6b"
      },
      "outputs": [
        {
          "data": {
            "text/plain": [
              "CLASS         0\n",
              "VISIT         0\n",
              "MR DELAY      0\n",
              "SEX           0\n",
              "HAND          0\n",
              "AGE           0\n",
              "EDUCATION     0\n",
              "SES          19\n",
              "MMSE          2\n",
              "CDR           0\n",
              "ETIV          0\n",
              "NWBV          0\n",
              "ASF           0\n",
              "dtype: int64"
            ]
          },
          "execution_count": 16,
          "metadata": {},
          "output_type": "execute_result"
        }
      ],
      "source": [
        "# isnull() komutu sütunlardaki eksik değer sayısını sayar. sum() komutu ise toplam ifadesidir.  \n",
        "data.isnull().sum()"
      ]
    },
    {
      "cell_type": "code",
      "execution_count": null,
      "id": "caa1e1a3",
      "metadata": {
        "id": "caa1e1a3",
        "outputId": "0d6f6bfe-78b9-43c5-fa15-2a6f7654965f"
      },
      "outputs": [
        {
          "data": {
            "image/png": "[encoded data removed]",
            "text/plain": [
              "<Figure size 432x288 with 1 Axes>"
            ]
          },
          "metadata": {
            "needs_background": "light"
          },
          "output_type": "display_data"
        }
      ],
      "source": [
        "SES_NAN = data.SES.isna()\n",
        "SES_labels = ['With Missing Values','Without Missing Values']\n",
        "\n",
        "box_sr = pd.Series('',index = SES_NAN.unique())\n",
        "\n",
        "for poss in SES_NAN.unique():\n",
        "    SES = SES_NAN == poss\n",
        "    box_sr[poss] = data[SES].AGE\n",
        "    \n",
        "plt.boxplot(box_sr,vert=False)\n",
        "plt.yticks([1,2],SES_labels)\n",
        "plt.show()"
      ]
    },
    {
      "cell_type": "code",
      "execution_count": null,
      "id": "354a269b",
      "metadata": {
        "id": "354a269b",
        "outputId": "da057289-a3b3-47c4-8a4a-734a4a609498"
      },
      "outputs": [
        {
          "data": {
            "image/png": "[encoded data removed]",
            "text/plain": [
              "<Figure size 720x288 with 2 Axes>"
            ]
          },
          "metadata": {
            "needs_background": "light"
          },
          "output_type": "display_data"
        }
      ],
      "source": [
        "SES_NAN = data.SES.isna()\n",
        "SES_labels = ['With Missing Values','Without Missing Values']\n",
        "AGE_range = (data.AGE.min(),data.AGE.max())\n",
        "\n",
        "plt.figure(figsize=(10,4))\n",
        "\n",
        "for i,poss in enumerate(SES_NAN.unique()):\n",
        "    plt.subplot(1,2,i+1)\n",
        "    BM = SES_NAN == poss\n",
        "    data[BM].AGE.hist()\n",
        "    plt.xlim = AGE_range\n",
        "    plt.title(SES_labels[i])\n",
        "\n",
        "plt.show()"
      ]
    },
    {
      "cell_type": "markdown",
      "id": "344bc9cd",
      "metadata": {
        "id": "344bc9cd"
      },
      "source": [
        "#### DEAL WITH MISSING DATA\n",
        "\n",
        "* **dropna():** eksik olan değerleri siler.\n",
        "* **fillna():** eksik değerlerin yerine değer ekler"
      ]
    },
    {
      "cell_type": "code",
      "execution_count": null,
      "id": "2494f9d0",
      "metadata": {
        "id": "2494f9d0",
        "outputId": "cb86b30d-e791-4013-8368-cc74b9b9acc7"
      },
      "outputs": [
        {
          "data": {
            "text/plain": [
              "(373, 13)"
            ]
          },
          "execution_count": 17,
          "metadata": {},
          "output_type": "execute_result"
        }
      ],
      "source": [
        "# ORIJINAL VERİ\n",
        "data.shape"
      ]
    },
    {
      "cell_type": "code",
      "execution_count": null,
      "id": "9cdd74f2",
      "metadata": {
        "id": "9cdd74f2",
        "outputId": "4c6d00ca-5e08-43c1-ef1c-23d2e692f2b6"
      },
      "outputs": [
        {
          "data": {
            "text/plain": [
              "CLASS         0\n",
              "VISIT         0\n",
              "MR DELAY      0\n",
              "SEX           0\n",
              "HAND          0\n",
              "AGE           0\n",
              "EDUCATION     0\n",
              "SES          19\n",
              "MMSE          2\n",
              "CDR           0\n",
              "ETIV          0\n",
              "NWBV          0\n",
              "ASF           0\n",
              "dtype: int64"
            ]
          },
          "execution_count": 19,
          "metadata": {},
          "output_type": "execute_result"
        }
      ],
      "source": [
        "# ORIJINAL VERİ\n",
        "data.isnull().sum()"
      ]
    },
    {
      "cell_type": "markdown",
      "id": "911e2eb9",
      "metadata": {
        "id": "911e2eb9"
      },
      "source": [
        "##### DROPNA"
      ]
    },
    {
      "cell_type": "code",
      "execution_count": null,
      "id": "95a16095",
      "metadata": {
        "id": "95a16095",
        "outputId": "fc2a7b0d-aaad-4dd7-ba43-211a2701edab"
      },
      "outputs": [
        {
          "data": {
            "text/plain": [
              "(354, 13)"
            ]
          },
          "execution_count": 20,
          "metadata": {},
          "output_type": "execute_result"
        }
      ],
      "source": [
        "# EKSİK VERİLER KALDIRILMIŞ\n",
        "data_without_NAN = data.dropna()\n",
        "data_without_NAN.shape"
      ]
    },
    {
      "cell_type": "code",
      "execution_count": null,
      "id": "7a1efc6c",
      "metadata": {
        "id": "7a1efc6c",
        "outputId": "652138db-c59e-4cd1-ed81-3827705f8564"
      },
      "outputs": [
        {
          "data": {
            "text/plain": [
              "CLASS        0\n",
              "VISIT        0\n",
              "MR DELAY     0\n",
              "SEX          0\n",
              "HAND         0\n",
              "AGE          0\n",
              "EDUCATION    0\n",
              "SES          0\n",
              "MMSE         0\n",
              "CDR          0\n",
              "ETIV         0\n",
              "NWBV         0\n",
              "ASF          0\n",
              "dtype: int64"
            ]
          },
          "execution_count": 21,
          "metadata": {},
          "output_type": "execute_result"
        }
      ],
      "source": [
        "data_without_NAN.isnull().sum()"
      ]
    },
    {
      "cell_type": "markdown",
      "id": "4098e97f",
      "metadata": {
        "id": "4098e97f"
      },
      "source": [
        "##### FILLNA"
      ]
    },
    {
      "cell_type": "code",
      "execution_count": null,
      "id": "4f3b1716",
      "metadata": {
        "id": "4f3b1716"
      },
      "outputs": [],
      "source": [
        "# Eksik verileri sıfır ile doldur.\n",
        "data_zero = data.fillna(0)"
      ]
    },
    {
      "cell_type": "code",
      "execution_count": null,
      "id": "aa99c40c",
      "metadata": {
        "id": "aa99c40c"
      },
      "outputs": [],
      "source": [
        "# Eksik verileri istenilen bir değer ile doldur.\n",
        "data_value = data.fillna(10)"
      ]
    },
    {
      "cell_type": "code",
      "execution_count": null,
      "id": "2a19d025",
      "metadata": {
        "id": "2a19d025"
      },
      "outputs": [],
      "source": [
        "# Sütunların ortalama değerleri ile doldurma\n",
        "data_mean = data.apply(lambda x: x.fillna(x.mean()),axis=0)"
      ]
    },
    {
      "cell_type": "code",
      "execution_count": null,
      "id": "c7877222",
      "metadata": {
        "id": "c7877222",
        "outputId": "068a812a-48a4-4de0-b4b1-2518601e8f6d"
      },
      "outputs": [
        {
          "name": "stderr",
          "output_type": "stream",
          "text": [
            "C:\\PYTHON\\Python 3.10\\lib\\site-packages\\seaborn\\distributions.py:2619: FutureWarning: `distplot` is a deprecated function and will be removed in a future version. Please adapt your code to use either `displot` (a figure-level function with similar flexibility) or `histplot` (an axes-level function for histograms).\n",
            "  warnings.warn(msg, FutureWarning)\n",
            "C:\\PYTHON\\Python 3.10\\lib\\site-packages\\seaborn\\distributions.py:2619: FutureWarning: `distplot` is a deprecated function and will be removed in a future version. Please adapt your code to use either `displot` (a figure-level function with similar flexibility) or `histplot` (an axes-level function for histograms).\n",
            "  warnings.warn(msg, FutureWarning)\n",
            "C:\\PYTHON\\Python 3.10\\lib\\site-packages\\seaborn\\distributions.py:2619: FutureWarning: `distplot` is a deprecated function and will be removed in a future version. Please adapt your code to use either `displot` (a figure-level function with similar flexibility) or `histplot` (an axes-level function for histograms).\n",
            "  warnings.warn(msg, FutureWarning)\n",
            "C:\\PYTHON\\Python 3.10\\lib\\site-packages\\seaborn\\distributions.py:2619: FutureWarning: `distplot` is a deprecated function and will be removed in a future version. Please adapt your code to use either `displot` (a figure-level function with similar flexibility) or `histplot` (an axes-level function for histograms).\n",
            "  warnings.warn(msg, FutureWarning)\n",
            "C:\\PYTHON\\Python 3.10\\lib\\site-packages\\seaborn\\distributions.py:2619: FutureWarning: `distplot` is a deprecated function and will be removed in a future version. Please adapt your code to use either `displot` (a figure-level function with similar flexibility) or `histplot` (an axes-level function for histograms).\n",
            "  warnings.warn(msg, FutureWarning)\n"
          ]
        },
        {
          "data": {
            "image/png": "[encoded data removed]",
            "text/plain": [
              "<Figure size 864x576 with 5 Axes>"
            ]
          },
          "metadata": {
            "needs_background": "light"
          },
          "output_type": "display_data"
        }
      ],
      "source": [
        "plt.figure(figsize=(12,8))\n",
        "\n",
        "plt.subplot(2,3,1)\n",
        "sns.distplot(data_without_NAN['SES'])\n",
        "\n",
        "plt.subplot(2,3,2)\n",
        "sns.distplot(data['SES'])\n",
        "\n",
        "plt.subplot(2,3,3)\n",
        "sns.distplot(data_zero['SES'])\n",
        "\n",
        "plt.subplot(2,3,4)\n",
        "sns.distplot(data_value['SES'])\n",
        "\n",
        "plt.subplot(2,3,5)\n",
        "sns.distplot(data_mean['SES'])\n",
        "\n",
        "plt.show()"
      ]
    },
    {
      "cell_type": "markdown",
      "id": "6368bcac",
      "metadata": {
        "id": "6368bcac"
      },
      "source": [
        "### 2) SCALING"
      ]
    },
    {
      "cell_type": "markdown",
      "id": "3f00e036",
      "metadata": {
        "id": "3f00e036"
      },
      "source": [
        "#### MIN-MAX SCALING"
      ]
    },
    {
      "cell_type": "code",
      "execution_count": null,
      "id": "d2af3675",
      "metadata": {
        "id": "d2af3675"
      },
      "outputs": [],
      "source": [
        "X = data.drop([\"CLASS\"], axis=1)\n",
        "y = data[\"CLASS\"]"
      ]
    },
    {
      "cell_type": "code",
      "execution_count": null,
      "id": "66199ee4",
      "metadata": {
        "id": "66199ee4"
      },
      "outputs": [],
      "source": [
        "scaler = preprocessing.MinMaxScaler()\n",
        "scaled = scaler.fit_transform(X)\n",
        "X_minmax = pd.DataFrame(scaled)"
      ]
    },
    {
      "cell_type": "code",
      "execution_count": null,
      "id": "49ca0d73",
      "metadata": {
        "id": "49ca0d73",
        "outputId": "60992cb5-5136-4982-fa77-6d05a909fa1c"
      },
      "outputs": [
        {
          "data": {
            "text/html": [
              "<div>\n",
              "<style scoped>\n",
              "    .dataframe tbody tr th:only-of-type {\n",
              "        vertical-align: middle;\n",
              "    }\n",
              "\n",
              "    .dataframe tbody tr th {\n",
              "        vertical-align: top;\n",
              "    }\n",
              "\n",
              "    .dataframe thead th {\n",
              "        text-align: right;\n",
              "    }\n",
              "</style>\n",
              "<table border=\"1\" class=\"dataframe\">\n",
              "  <thead>\n",
              "    <tr style=\"text-align: right;\">\n",
              "      <th></th>\n",
              "      <th>CLASS</th>\n",
              "      <th>VISIT</th>\n",
              "      <th>MR DELAY</th>\n",
              "      <th>SEX</th>\n",
              "      <th>HAND</th>\n",
              "      <th>AGE</th>\n",
              "      <th>EDUCATION</th>\n",
              "      <th>SES</th>\n",
              "      <th>MMSE</th>\n",
              "      <th>CDR</th>\n",
              "      <th>ETIV</th>\n",
              "      <th>NWBV</th>\n",
              "      <th>ASF</th>\n",
              "    </tr>\n",
              "  </thead>\n",
              "  <tbody>\n",
              "    <tr>\n",
              "      <th>303</th>\n",
              "      <td>0</td>\n",
              "      <td>3</td>\n",
              "      <td>1204</td>\n",
              "      <td>1</td>\n",
              "      <td>0</td>\n",
              "      <td>80</td>\n",
              "      <td>13</td>\n",
              "      <td>2.0</td>\n",
              "      <td>28.0</td>\n",
              "      <td>0.0</td>\n",
              "      <td>1336.60</td>\n",
              "      <td>0.761973</td>\n",
              "      <td>1.31304</td>\n",
              "    </tr>\n",
              "    <tr>\n",
              "      <th>350</th>\n",
              "      <td>0</td>\n",
              "      <td>2</td>\n",
              "      <td>665</td>\n",
              "      <td>0</td>\n",
              "      <td>0</td>\n",
              "      <td>70</td>\n",
              "      <td>14</td>\n",
              "      <td>3.0</td>\n",
              "      <td>28.0</td>\n",
              "      <td>0.0</td>\n",
              "      <td>1510.36</td>\n",
              "      <td>0.770068</td>\n",
              "      <td>1.16198</td>\n",
              "    </tr>\n",
              "    <tr>\n",
              "      <th>248</th>\n",
              "      <td>0</td>\n",
              "      <td>2</td>\n",
              "      <td>733</td>\n",
              "      <td>1</td>\n",
              "      <td>0</td>\n",
              "      <td>83</td>\n",
              "      <td>15</td>\n",
              "      <td>2.0</td>\n",
              "      <td>29.0</td>\n",
              "      <td>0.0</td>\n",
              "      <td>1482.38</td>\n",
              "      <td>0.751045</td>\n",
              "      <td>1.18390</td>\n",
              "    </tr>\n",
              "    <tr>\n",
              "      <th>317</th>\n",
              "      <td>1</td>\n",
              "      <td>2</td>\n",
              "      <td>764</td>\n",
              "      <td>1</td>\n",
              "      <td>0</td>\n",
              "      <td>75</td>\n",
              "      <td>12</td>\n",
              "      <td>2.0</td>\n",
              "      <td>18.0</td>\n",
              "      <td>1.0</td>\n",
              "      <td>1478.52</td>\n",
              "      <td>0.656862</td>\n",
              "      <td>1.18700</td>\n",
              "    </tr>\n",
              "  </tbody>\n",
              "</table>\n",
              "</div>"
            ],
            "text/plain": [
              "     CLASS  VISIT  MR DELAY  SEX  HAND  AGE  EDUCATION  SES  MMSE  CDR  \\\n",
              "303      0      3      1204    1     0   80         13  2.0  28.0  0.0   \n",
              "350      0      2       665    0     0   70         14  3.0  28.0  0.0   \n",
              "248      0      2       733    1     0   83         15  2.0  29.0  0.0   \n",
              "317      1      2       764    1     0   75         12  2.0  18.0  1.0   \n",
              "\n",
              "        ETIV      NWBV      ASF  \n",
              "303  1336.60  0.761973  1.31304  \n",
              "350  1510.36  0.770068  1.16198  \n",
              "248  1482.38  0.751045  1.18390  \n",
              "317  1478.52  0.656862  1.18700  "
            ]
          },
          "execution_count": 29,
          "metadata": {},
          "output_type": "execute_result"
        }
      ],
      "source": [
        "data.sample(4)"
      ]
    },
    {
      "cell_type": "code",
      "execution_count": null,
      "id": "c7439a23",
      "metadata": {
        "id": "c7439a23",
        "outputId": "add73c5b-820a-4138-b301-0aaba7a30a43"
      },
      "outputs": [
        {
          "data": {
            "text/html": [
              "<div>\n",
              "<style scoped>\n",
              "    .dataframe tbody tr th:only-of-type {\n",
              "        vertical-align: middle;\n",
              "    }\n",
              "\n",
              "    .dataframe tbody tr th {\n",
              "        vertical-align: top;\n",
              "    }\n",
              "\n",
              "    .dataframe thead th {\n",
              "        text-align: right;\n",
              "    }\n",
              "</style>\n",
              "<table border=\"1\" class=\"dataframe\">\n",
              "  <thead>\n",
              "    <tr style=\"text-align: right;\">\n",
              "      <th></th>\n",
              "      <th>0</th>\n",
              "      <th>1</th>\n",
              "      <th>2</th>\n",
              "      <th>3</th>\n",
              "      <th>4</th>\n",
              "      <th>5</th>\n",
              "      <th>6</th>\n",
              "      <th>7</th>\n",
              "      <th>8</th>\n",
              "      <th>9</th>\n",
              "      <th>10</th>\n",
              "      <th>11</th>\n",
              "    </tr>\n",
              "  </thead>\n",
              "  <tbody>\n",
              "    <tr>\n",
              "      <th>209</th>\n",
              "      <td>0.00</td>\n",
              "      <td>0.000000</td>\n",
              "      <td>1.0</td>\n",
              "      <td>0.0</td>\n",
              "      <td>0.447368</td>\n",
              "      <td>0.294118</td>\n",
              "      <td>0.75</td>\n",
              "      <td>0.961538</td>\n",
              "      <td>0.00</td>\n",
              "      <td>0.531590</td>\n",
              "      <td>0.689820</td>\n",
              "      <td>0.327064</td>\n",
              "    </tr>\n",
              "    <tr>\n",
              "      <th>207</th>\n",
              "      <td>0.00</td>\n",
              "      <td>0.000000</td>\n",
              "      <td>1.0</td>\n",
              "      <td>0.0</td>\n",
              "      <td>0.526316</td>\n",
              "      <td>0.352941</td>\n",
              "      <td>NaN</td>\n",
              "      <td>0.884615</td>\n",
              "      <td>0.25</td>\n",
              "      <td>0.410888</td>\n",
              "      <td>0.613636</td>\n",
              "      <td>0.441598</td>\n",
              "    </tr>\n",
              "    <tr>\n",
              "      <th>46</th>\n",
              "      <td>0.25</td>\n",
              "      <td>0.255021</td>\n",
              "      <td>0.0</td>\n",
              "      <td>0.0</td>\n",
              "      <td>0.631579</td>\n",
              "      <td>0.352941</td>\n",
              "      <td>0.50</td>\n",
              "      <td>0.884615</td>\n",
              "      <td>0.25</td>\n",
              "      <td>0.377964</td>\n",
              "      <td>0.263933</td>\n",
              "      <td>0.475831</td>\n",
              "    </tr>\n",
              "    <tr>\n",
              "      <th>348</th>\n",
              "      <td>0.50</td>\n",
              "      <td>0.618037</td>\n",
              "      <td>0.0</td>\n",
              "      <td>0.0</td>\n",
              "      <td>0.763158</td>\n",
              "      <td>0.588235</td>\n",
              "      <td>0.25</td>\n",
              "      <td>1.000000</td>\n",
              "      <td>0.25</td>\n",
              "      <td>0.336929</td>\n",
              "      <td>0.181046</td>\n",
              "      <td>0.520503</td>\n",
              "    </tr>\n",
              "  </tbody>\n",
              "</table>\n",
              "</div>"
            ],
            "text/plain": [
              "       0         1    2    3         4         5     6         7     8   \\\n",
              "209  0.00  0.000000  1.0  0.0  0.447368  0.294118  0.75  0.961538  0.00   \n",
              "207  0.00  0.000000  1.0  0.0  0.526316  0.352941   NaN  0.884615  0.25   \n",
              "46   0.25  0.255021  0.0  0.0  0.631579  0.352941  0.50  0.884615  0.25   \n",
              "348  0.50  0.618037  0.0  0.0  0.763158  0.588235  0.25  1.000000  0.25   \n",
              "\n",
              "           9         10        11  \n",
              "209  0.531590  0.689820  0.327064  \n",
              "207  0.410888  0.613636  0.441598  \n",
              "46   0.377964  0.263933  0.475831  \n",
              "348  0.336929  0.181046  0.520503  "
            ]
          },
          "execution_count": 28,
          "metadata": {},
          "output_type": "execute_result"
        }
      ],
      "source": [
        "X_minmax.sample(4)"
      ]
    },
    {
      "cell_type": "markdown",
      "id": "58a8ea7a",
      "metadata": {
        "id": "58a8ea7a"
      },
      "source": [
        "#### STANDART SCALING"
      ]
    },
    {
      "cell_type": "code",
      "execution_count": 1,
      "id": "d3ecd492",
      "metadata": {
        "colab": {
          "base_uri": "https://localhost:8080/",
          "height": 200
        },
        "id": "d3ecd492",
        "outputId": "9685ed5e-30dd-42d0-c712-af181d782880"
      },
      "outputs": [
        {
          "output_type": "error",
          "ename": "NameError",
          "evalue": "ignored",
          "traceback": [
            "\u001b[0;31m---------------------------------------------------------------------------\u001b[0m",
            "\u001b[0;31mNameError\u001b[0m                                 Traceback (most recent call last)",
            "\u001b[0;32m<ipython-input-1-e7d1f102a1ab>\u001b[0m in \u001b[0;36m<module>\u001b[0;34m()\u001b[0m\n\u001b[0;32m----> 1\u001b[0;31m \u001b[0mscaler\u001b[0m \u001b[0;34m=\u001b[0m \u001b[0mpreprocessing\u001b[0m\u001b[0;34m.\u001b[0m\u001b[0mStandardScaler\u001b[0m\u001b[0;34m(\u001b[0m\u001b[0;34m)\u001b[0m\u001b[0;34m\u001b[0m\u001b[0;34m\u001b[0m\u001b[0m\n\u001b[0m\u001b[1;32m      2\u001b[0m \u001b[0mscaled\u001b[0m \u001b[0;34m=\u001b[0m \u001b[0mscaler\u001b[0m\u001b[0;34m.\u001b[0m\u001b[0mfit_transform\u001b[0m\u001b[0;34m(\u001b[0m\u001b[0mX\u001b[0m\u001b[0;34m)\u001b[0m\u001b[0;34m\u001b[0m\u001b[0;34m\u001b[0m\u001b[0m\n\u001b[1;32m      3\u001b[0m \u001b[0mX_standart\u001b[0m \u001b[0;34m=\u001b[0m \u001b[0mpd\u001b[0m\u001b[0;34m.\u001b[0m\u001b[0mDataFrame\u001b[0m\u001b[0;34m(\u001b[0m\u001b[0mscaled\u001b[0m\u001b[0;34m)\u001b[0m\u001b[0;34m\u001b[0m\u001b[0;34m\u001b[0m\u001b[0m\n",
            "\u001b[0;31mNameError\u001b[0m: name 'preprocessing' is not defined"
          ]
        }
      ],
      "source": [
        "scaler = preprocessing.StandardScaler()\n",
        "scaled = scaler.fit_transform(X)\n",
        "X_standart = pd.DataFrame(scaled)"
      ]
    },
    {
      "cell_type": "code",
      "execution_count": null,
      "id": "cf3c8ce2",
      "metadata": {
        "id": "cf3c8ce2"
      },
      "outputs": [],
      "source": [
        "X_standart.sample(4)"
      ]
    },
    {
      "cell_type": "markdown",
      "id": "908fc1fa",
      "metadata": {
        "id": "908fc1fa"
      },
      "source": [
        "### 3) OUTLIERS"
      ]
    },
    {
      "cell_type": "code",
      "execution_count": null,
      "id": "2d1b6c8e",
      "metadata": {
        "id": "2d1b6c8e",
        "outputId": "a1957818-c4c1-44eb-a809-917c35ce923c"
      },
      "outputs": [
        {
          "data": {
            "image/png": "[encoded data removed]",
            "text/plain": [
              "<Figure size 1296x216 with 12 Axes>"
            ]
          },
          "metadata": {
            "needs_background": "light"
          },
          "output_type": "display_data"
        }
      ],
      "source": [
        "plt.figure(figsize=(18,3))\n",
        "for i,att in enumerate(X.columns):\n",
        "    plt.subplot(1,len(X.columns),i+1)\n",
        "    sns.boxplot(y=data[att])\n",
        "plt.tight_layout()\n",
        "plt.show()"
      ]
    },
    {
      "cell_type": "code",
      "execution_count": null,
      "id": "448c4746",
      "metadata": {
        "id": "448c4746",
        "outputId": "2e488289-67df-40ef-8709-74b8f2ffb541"
      },
      "outputs": [
        {
          "name": "stdout",
          "output_type": "stream",
          "text": [
            "(array([ 12,  31,  32,  35,  50,  65,  70,  71,  75, 100, 101, 144, 152,\n",
            "       153, 159, 160, 244, 264, 265, 304, 364], dtype=int64),)\n"
          ]
        }
      ],
      "source": [
        "# Outlier değerlerin indeksleri\n",
        "print(np.where(data['VISIT']>3.5))"
      ]
    },
    {
      "cell_type": "code",
      "execution_count": null,
      "id": "bfdd479b",
      "metadata": {
        "id": "bfdd479b",
        "outputId": "7c95f095-9a31-4490-8c2a-292110987fc3"
      },
      "outputs": [
        {
          "name": "stdout",
          "output_type": "stream",
          "text": [
            "(array([107, 108, 109], dtype=int64),)\n"
          ]
        }
      ],
      "source": [
        "# Outlier değerlerin indeksleri\n",
        "print(np.where(data['EDUCATION']>22))"
      ]
    },
    {
      "cell_type": "code",
      "execution_count": null,
      "id": "97e8f0b0",
      "metadata": {
        "id": "97e8f0b0",
        "outputId": "86f58e29-d253-4864-ffcb-1a80a4de1ed4"
      },
      "outputs": [
        {
          "name": "stdout",
          "output_type": "stream",
          "text": [
            "(array([136, 137, 138, 161, 162, 179, 180], dtype=int64),)\n"
          ]
        }
      ],
      "source": [
        "# Outlier değerlerin indeksleri\n",
        "print(np.where(data['SES']> 4.5))"
      ]
    },
    {
      "cell_type": "code",
      "execution_count": null,
      "id": "8b3f7f1e",
      "metadata": {
        "id": "8b3f7f1e",
        "outputId": "6ffcb3fe-f610-4eee-e7ea-4383bfe43788"
      },
      "outputs": [
        {
          "name": "stdout",
          "output_type": "stream",
          "text": [
            "(array([100, 101], dtype=int64),)\n"
          ]
        }
      ],
      "source": [
        "# Outlier değerlerin indeksleri\n",
        "print(np.where(data['MMSE']< 10))"
      ]
    },
    {
      "cell_type": "code",
      "execution_count": null,
      "id": "1de8e09e",
      "metadata": {
        "id": "1de8e09e",
        "outputId": "d56b7335-6376-4887-b12d-1c6bde1c7dfb"
      },
      "outputs": [
        {
          "name": "stdout",
          "output_type": "stream",
          "text": [
            "(array([184, 251, 330], dtype=int64),)\n"
          ]
        }
      ],
      "source": [
        "# Outlier değerlerin indeksleri\n",
        "print(np.where(data['CDR']> 1.5))"
      ]
    },
    {
      "cell_type": "code",
      "execution_count": null,
      "id": "575c99ef",
      "metadata": {
        "id": "575c99ef",
        "outputId": "eba7d40b-baa0-4f1f-e23c-4b1bb7e0111c"
      },
      "outputs": [
        {
          "data": {
            "image/png": "[encoded data removed]",
            "text/plain": [
              "<Figure size 504x360 with 1 Axes>"
            ]
          },
          "metadata": {
            "needs_background": "light"
          },
          "output_type": "display_data"
        }
      ],
      "source": [
        "# Scatter plot\n",
        "fig, ax = plt.subplots(figsize = (7,5))\n",
        "ax.scatter(data['AGE'], data['MMSE'])\n",
        " \n",
        "# x-axis label\n",
        "ax.set_xlabel('AGE')\n",
        " \n",
        "# y-axis label\n",
        "ax.set_ylabel('MMSE')\n",
        "plt.show()"
      ]
    },
    {
      "cell_type": "code",
      "execution_count": null,
      "id": "d3c3f82d",
      "metadata": {
        "id": "d3c3f82d"
      },
      "outputs": [],
      "source": [
        "pre_process_df = data\n",
        "candidate_atts = [\"VISIT\",\"MR DELAY\", \"EDUCATION\",\"SES\",\"MMSE\",\"CDR\", \"ETIV\", \"ASF\"]\n",
        "\n",
        "for att in candidate_atts:\n",
        "    Q3 = pre_process_df[att].quantile(0.75)\n",
        "    Q1 = pre_process_df[att].quantile(0.25)\n",
        "    IQR = Q3 - Q1\n",
        "\n",
        "    lower_cap = Q1-IQR*1.5\n",
        "    upper_cap = Q3+IQR*1.5\n",
        "\n",
        "    BM = pre_process_df[att] < lower_cap\n",
        "    candidate_index = pre_process_df[BM].index\n",
        "    pre_process_df.loc[candidate_index,att] = lower_cap\n",
        "\n",
        "    BM = pre_process_df[att] > upper_cap\n",
        "    candidate_index = pre_process_df[BM].index\n",
        "    pre_process_df.loc[candidate_index,att] = upper_cap"
      ]
    },
    {
      "cell_type": "code",
      "execution_count": null,
      "id": "401eb0da",
      "metadata": {
        "id": "401eb0da",
        "outputId": "0cd87fdf-66ad-472b-cea5-c9fc5a7ef60a"
      },
      "outputs": [
        {
          "name": "stdout",
          "output_type": "stream",
          "text": [
            "(373, 13)\n",
            "(373, 13)\n"
          ]
        }
      ],
      "source": [
        "print(data.shape)\n",
        "print(pre_process_df.shape)"
      ]
    },
    {
      "cell_type": "code",
      "execution_count": null,
      "id": "e1ff5715",
      "metadata": {
        "id": "e1ff5715",
        "outputId": "8349c8d3-5f98-49ac-dd71-1ba51635a859"
      },
      "outputs": [
        {
          "data": {
            "image/png": "[encoded data removed]",
            "text/plain": [
              "<Figure size 1296x216 with 13 Axes>"
            ]
          },
          "metadata": {
            "needs_background": "light"
          },
          "output_type": "display_data"
        }
      ],
      "source": [
        "plt.figure(figsize=(18,3))\n",
        "for i,att in enumerate(pre_process_df.columns):\n",
        "    plt.subplot(1,len(pre_process_df.columns),i+1)\n",
        "    sns.boxplot(y=pre_process_df[att])\n",
        "plt.tight_layout()\n",
        "plt.show()"
      ]
    },
    {
      "cell_type": "code",
      "execution_count": null,
      "id": "f40cc0ee",
      "metadata": {
        "id": "f40cc0ee"
      },
      "outputs": [],
      "source": [
        ""
      ]
    },
    {
      "cell_type": "code",
      "execution_count": null,
      "id": "51ede106",
      "metadata": {
        "id": "51ede106"
      },
      "outputs": [],
      "source": [
        ""
      ]
    }
  ],
  "metadata": {
    "kernelspec": {
      "display_name": "Python 3 (ipykernel)",
      "language": "python",
      "name": "python3"
    },
    "language_info": {
      "codemirror_mode": {
        "name": "ipython",
        "version": 3
      },
      "file_extension": ".py",
      "mimetype": "text/x-python",
      "name": "python",
      "nbconvert_exporter": "python",
      "pygments_lexer": "ipython3",
      "version": "3.10.0"
    },
    "colab": {
      "name": "5. Hafta - Data Preprocessing - Dementia.ipynb",
      "provenance": [],
      "include_colab_link": true
    }
  },
  "nbformat": 4,
  "nbformat_minor": 5
}